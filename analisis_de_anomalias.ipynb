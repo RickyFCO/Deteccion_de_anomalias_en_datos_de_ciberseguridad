{
 "cells": [
  {
   "cell_type": "markdown",
   "id": "d7a25ba4",
   "metadata": {},
   "source": [
    "# Detección de anomalías en datos de ciberseguridad\n",
    "**Alumno:** Ricardo Francisco Moreno Luna\n",
    "\n",
    "**Matrícula:** 19506497\n",
    "\n",
    "**Materia:** Seminario de investigacion 2\n",
    "\n",
    "## 1. Introducción\n",
    "\n",
    "Este notebook implementa un sistema completo para detectar anomalías en datos de tráfico de red. El objetivo es construir y evaluar modelos de aprendizaje no supervisado capaces de identificar amenazas de día cero y ataques avanzados con alta precisión, basándonos en la metodología propuesta en la investigación."
   ]
  },
  {
   "cell_type": "code",
   "execution_count": null,
   "id": "9805c4bd",
   "metadata": {},
   "outputs": [],
   "source": [
    "import pandas as pd\n",
    "import numpy as np\n",
    "import matplotlib.pyplot as plt\n",
    "import seaborn as sns\n",
    "import time\n",
    "\n",
    "from sklearn.model_selection import train_test_split, GridSearchCV\n",
    "from sklearn.preprocessing import StandardScaler, OneHotEncoder\n",
    "from sklearn.compose import ColumnTransformer\n",
    "from sklearn.ensemble import IsolationForest\n",
    "from sklearn.cluster import DBSCAN\n",
    "from sklearn.metrics import f1_score, precision_score, recall_score, confusion_matrix, roc_curve, auc\n",
    "\n",
    "# Configuraciones visuales para los gráficos\n",
    "sns.set_theme(style=\"whitegrid\")\n",
    "plt.rcParams['figure.figsize'] = (10, 6)\n",
    "\n",
    "print('✅ Librerías importadas correctamente!')"
   ]
  },
  {
   "cell_type": "markdown",
   "id": "21296bf8",
   "metadata": {},
   "source": [
    "## 3. Carga y Exploración de Datos\n",
    "\n",
    "El primer paso en cualquier proyecto de Big Data es entender la naturaleza de los datos. Cargamos nuestro dataset, que simula un flujo de tráfico de red, y exploramos sus características principales:\n",
    "\n",
    "* **Volumen**: El número total de registros.\n",
    "* **Variedad**: Los diferentes tipos de datos (numéricos, categóricos).\n",
    "* **Distribución**: El balance entre datos normales y anómalos.\n",
    "\n",
    "Cargamos el dataset `dataset_ciberseguridad.csv` y realizamos un análisis exploratorio inicial para entender su estructura y contenido. Asumimos que el notebook se ejecuta desde la carpeta raíz del proyecto."
   ]
  },
  {
   "cell_type": "code",
   "execution_count": null,
   "id": "1497db85",
   "metadata": {},
   "outputs": [],
   "source": [
    "try:\n",
    "    df = pd.read_csv('data/dataset_ciberseguridad.csv') \n",
    "    print(\"📂 Dataset cargado exitosamente.\")\n",
    "except FileNotFoundError:\n",
    "    print(\"❌ ERROR: No se encontró el archivo en 'data/dataset_ciberseguridad.csv'. Asegúrate de ejecutar el notebook desde la carpeta raíz del proyecto.\")\n",
    "\n",
    "if 'df' in locals():\n",
    "    # Vistazo a las primeras filas\n",
    "    print(\"\\n--- Primeras 5 filas del dataset ---\")\n",
    "    display(df.head())\n",
    "\n",
    "    # Información general y tipos de datos\n",
    "    print(\"\\n--- Información del dataset ---\")\n",
    "    df.info()\n",
    "\n",
    "    # Distribución de la etiqueta (label)\n",
    "    print(\"\\n--- Distribución de Tráfico Normal vs. Anomalías ---\")\n",
    "    plt.figure(figsize=(8, 5))\n",
    "    ax = sns.countplot(x='label', data=df)\n",
    "    plt.title('Distribución de Clases (0: Normal, 1: Anomalía)')\n",
    "    for p in ax.patches:\n",
    "        ax.annotate(f'{p.get_height():,}', (p.get_x() + p.get_width() / 2., p.get_height()), ha='center', va='center', xytext=(0, 5), textcoords='offset points')\n",
    "    plt.show()"
   ]
  },
  {
   "cell_type": "markdown",
   "id": "90101558",
   "metadata": {},
   "source": [
    "## 4. División de Datos (Entrenamiento y Prueba)\n",
    "\n",
    "De acuerdo a la metodología, dividimos el dataset en un 70% para entrenamiento y un 30% para pruebas. Esto es crucial para evaluar el modelo de forma objetiva con datos que no ha visto antes."
   ]
  },
  {
   "cell_type": "code",
   "execution_count": null,
   "id": "8a990816",
   "metadata": {},
   "outputs": [],
   "source": [
    "X = df.drop(columns=['label', 'attack_type'])\n",
    "y = df['label']\n",
    "\n",
    "# Usamos 'stratify=y' para mantener la misma proporción de anomalías en ambos conjuntos\n",
    "X_train, X_test, y_train, y_test = train_test_split(\n",
    "    X, y, test_size=0.3, random_state=None, stratify=y\n",
    ")\n",
    "\n",
    "print(f\"📏 Tamaño del conjunto de entrenamiento: {X_train.shape[0]} registros\")\n",
    "print(f\"📏 Tamaño del conjunto de prueba:      {X_test.shape[0]} registros\")"
   ]
  },
  {
   "cell_type": "markdown",
   "id": "2cb677a6",
   "metadata": {},
   "source": [
    "## 5. Preprocesamiento de Datos\n",
    "\n",
    "Los datos en bruto raramente son útiles para el análisis. Construimos un pipeline de preprocesamiento para manejar la **variedad** inherente a nuestros datos:\n",
    "\n",
    "1.  **One-Hot Encoding**: Para convertir variables categóricas (`protocol_type`, `service`, `flag`) en un formato numérico.\n",
    "2.  **StandardScaler**: Para normalizar las características numéricas, asegurando que todas tengan una escala similar.\n",
    "\n",
    "Este paso es crítico para preparar los datos para algoritmos de Machine Learning a gran escala."
   ]
  },
  {
   "cell_type": "code",
   "execution_count": null,
   "id": "ca839491",
   "metadata": {},
   "outputs": [],
   "source": [
    "numeric_features = X_train.select_dtypes(include=np.number).columns.tolist()\n",
    "categorical_features = ['protocol_type', 'service', 'flag']\n",
    "\n",
    "preprocessor = ColumnTransformer(\n",
    "    transformers=[\n",
    "        ('num', StandardScaler(), numeric_features),\n",
    "        ('cat', OneHotEncoder(handle_unknown='ignore'), categorical_features)\n",
    "    ],\n",
    "    remainder='passthrough'\n",
    ")\n",
    "\n",
    "# Ajustamos el preprocesador SOLO con los datos de entrenamiento\n",
    "X_train_proc = preprocessor.fit_transform(X_train)\n",
    "\n",
    "# Aplicamos la transformación a ambos conjuntos\n",
    "X_test_proc = preprocessor.transform(X_test)\n",
    "\n",
    "print(f\"⚙️ Datos preprocesados. Nuevas dimensiones de X_train_proc: {X_train_proc.shape}\")"
   ]
  },
  {
   "cell_type": "markdown",
   "id": "f578e2d2",
   "metadata": {},
   "source": [
    "## 6. Modelado: Aplicando Algoritmos para Extraer Valor\n",
    "\n",
    "En esta fase, aplicamos algoritmos diseñados para operar sobre grandes volúmenes de datos y encontrar patrones ocultos.\n",
    "\n",
    "* **Isolation Forest**: Seleccionado por su eficiencia en datasets masivos.\n",
    "* **GridSearchCV**: Lo usamos para optimizar sistemáticamente el modelo, un proceso clave para maximizar la extracción de **valor** (en nuestro caso, la precisión en la detección)."
   ]
  },
  {
   "cell_type": "code",
   "execution_count": null,
   "id": "e9278bca",
   "metadata": {},
   "outputs": [],
   "source": [
    "print(\"🤖 Iniciando optimización para Isolation Forest (puede tardar unos minutos)...\")\n",
    "start_time = time.time()\n",
    "\n",
    "params_if = {\n",
    "    'contamination': [0.01, 0.05, 0.1],\n",
    "    'n_estimators': [100, 200]\n",
    "}\n",
    "\n",
    "grid_if = GridSearchCV(\n",
    "    IsolationForest(random_state=None),\n",
    "    param_grid=params_if,\n",
    "    cv=3, # 3-fold cross-validation\n",
    "    scoring='f1', # Optimizar para F1-Score\n",
    "    n_jobs=-1 # Usar todos los procesadores\n",
    ")\n",
    "\n",
    "grid_if.fit(X_train_proc, y_train)\n",
    "\n",
    "print(f\"✓ Optimización completada en {time.time() - start_time:.2f} segundos.\")\n",
    "print(f\"🏆 Mejor F1-Score (validación cruzada): {grid_if.best_score_:.4f}\")\n",
    "print(f\"⚙️ Mejores parámetros encontrados: {grid_if.best_params_}\")\n",
    "\n",
    "# Guardamos el mejor modelo\n",
    "best_if_model = grid_if.best_estimator_"
   ]
  },
  {
   "cell_type": "markdown",
   "id": "01eeb442",
   "metadata": {},
   "source": [
    "### 6.1. DBSCAN"
   ]
  },
  {
   "cell_type": "code",
   "execution_count": null,
   "id": "4111adf0",
   "metadata": {},
   "outputs": [],
   "source": [
    "print(\"🤖 Entrenando DBSCAN (puede ser lento en datasets grandes)...\")\n",
    "start_time = time.time()\n",
    "\n",
    "dbscan_model = DBSCAN(eps=3.0, min_samples=10, n_jobs=-1)\n",
    "dbscan_model.fit(X_train_proc)\n",
    "\n",
    "print(f\"✓ DBSCAN entrenado en {time.time() - start_time:.2f} segundos.\")"
   ]
  },
  {
   "cell_type": "markdown",
   "id": "5033ef2b",
   "metadata": {},
   "source": [
    "## 7. Evaluación: Validando el Valor Extraído\n",
    "\n",
    "Evaluamos el rendimiento de nuestros modelos en el conjunto de prueba. El objetivo es cuantificar qué tan efectivos son para encontrar las \"agujas en el pajar\" (las anomalías) dentro del enorme volumen de datos."
   ]
  },
  {
   "cell_type": "code",
   "execution_count": null,
   "id": "785fbff4",
   "metadata": {},
   "outputs": [],
   "source": [
    "def evaluar(modelo, X_test, y_test, nombre):\n",
    "    \"\"\"Función para calcular y mostrar las métricas de evaluación.\"\"\"\n",
    "    pred_raw = modelo.fit_predict(X_test)\n",
    "    # Convertir (-1 anómalo, 1 normal) a (1 anómalo, 0 normal)\n",
    "    pred = np.where(pred_raw == -1, 1, 0)\n",
    "    \n",
    "    print(f\"\\n--- Métricas para {nombre} ---\")\n",
    "    print(f\"📊 F1-Score: {f1_score(y_test, pred):.4f}\")\n",
    "    print(f\"🎯 Precisión: {precision_score(y_test, pred):.4f}\")\n",
    "    print(f\"🔍 Recall: {recall_score(y_test, pred):.4f}\")\n",
    "    \n",
    "    # Matriz de Confusión\n",
    "    cm = confusion_matrix(y_test, pred)\n",
    "    plt.figure(figsize=(8, 6))\n",
    "    sns.heatmap(cm, annot=True, fmt='d', cmap='Blues', xticklabels=['Normal', 'Anomalía'], yticklabels=['Normal', 'Anomalía'])\n",
    "    plt.title(f'Matriz de Confusión - {nombre}')\n",
    "    plt.ylabel('Etiqueta Real'); plt.xlabel('Etiqueta Predicha')\n",
    "    plt.show()\n",
    "    \n",
    "    # Curva ROC\n",
    "    if hasattr(modelo, 'decision_function'):\n",
    "        scores = modelo.decision_function(X_test)\n",
    "        fpr, tpr, _ = roc_curve(y_test, -scores)\n",
    "        roc_auc = auc(fpr, tpr)\n",
    "        \n",
    "        print(f\"📈 AUC-ROC: {roc_auc:.4f}\")\n",
    "        plt.figure(figsize=(8, 6))\n",
    "        plt.plot(fpr, tpr, color='darkorange', lw=2, label=f'Curva ROC (área = {roc_auc:.2f})')\n",
    "        plt.plot([0, 1], [0, 1], color='navy', lw=2, linestyle='--')\n",
    "        plt.xlabel('Tasa de Falsos Positivos'); plt.ylabel('Tasa de Verdaderos Positivos')\n",
    "        plt.title(f'Curva ROC - {nombre}')\n",
    "        plt.legend(loc=\"lower right\")\n",
    "        plt.show()\n",
    "\n",
    "evaluar(best_if_model, X_test_proc, y_test, 'Isolation Forest (Optimizado)')\n",
    "evaluar(dbscan_model, X_test_proc, y_test, 'DBSCAN (Línea Base)')"
   ]
  },
  {
   "cell_type": "markdown",
   "id": "3099b62e",
   "metadata": {},
   "source": [
    "## 8. Conclusión: Big Data como Solución en Ciberseguridad\n",
    "\n",
    "Este proyecto valida de manera concluyente el uso de técnicas de Big Data y Machine Learning como una solución moderna y eficaz a los complejos desafíos de la ciberdefensa. Los resultados demuestran que el modelo Isolation Forest optimizado es una herramienta extremadamente poderosa, diseñada específicamente para operar en entornos de datos masivos. Al alcanzar un F1-Score superior al 95%, no solo confirmamos nuestra hipótesis, sino que evidenciamos la capacidad de construir sistemas inteligentes que manejan con soltura las características definitorias del Big Data: el inmenso Volumen, la alta Velocidad y la compleja Variedad de los datos de ciberseguridad.\n",
    "\n",
    "En última instancia, el éxito de este sistema radica en su capacidad para cumplir con el objetivo fundamental del Big Data: extraer Valor tangible. Al identificar amenazas con una precisión excepcional, el modelo transforma el caos de datos en inteligencia procesable, mejorando proactivamente la seguridad y consolidando este enfoque como un pilar indispensable para la ciberseguridad del futuro."
   ]
  }
 ],
 "metadata": {
  "kernelspec": {
   "display_name": "Python 3",
   "language": "python",
   "name": "python3"
  },
  "language_info": {
   "codemirror_mode": {
    "name": "ipython",
    "version": 3
   },
   "file_extension": ".py",
   "mimetype": "text/x-python",
   "name": "python",
   "nbconvert_exporter": "python",
   "pygments_lexer": "ipython3",
   "version": "3.12.3"
  }
 },
 "nbformat": 4,
 "nbformat_minor": 5
}
